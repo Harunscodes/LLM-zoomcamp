{
 "cells": [
  {
   "cell_type": "code",
   "execution_count": 1,
   "id": "4b71a200-0173-4c72-aa09-0eedf6008d21",
   "metadata": {},
   "outputs": [],
   "source": [
    "import requests\n",
    "import pandas as pd\n",
    "\n",
    "url_prefix = 'https://raw.githubusercontent.com/DataTalksClub/llm-zoomcamp/main/03-evaluation/'\n",
    "docs_url = url_prefix + 'search_evaluation/documents-with-ids.json'\n",
    "documents = requests.get(docs_url).json()\n",
    "\n",
    "ground_truth_url = url_prefix + 'search_evaluation/ground-truth-data.csv'\n",
    "df_ground_truth = pd.read_csv(ground_truth_url)\n",
    "ground_truth = df_ground_truth.to_dict(orient='records')"
   ]
  },
  {
   "cell_type": "code",
   "execution_count": 3,
   "id": "489d9de2-d3ea-4b1e-adce-66c655908847",
   "metadata": {},
   "outputs": [],
   "source": [
    "from tqdm.auto import tqdm"
   ]
  },
  {
   "cell_type": "code",
   "execution_count": 1,
   "id": "d120221d-f044-4c91-846a-a9fbb819a647",
   "metadata": {},
   "outputs": [
    {
     "name": "stderr",
     "output_type": "stream",
     "text": [
      "/usr/local/python/3.12.1/lib/python3.12/site-packages/tqdm/auto.py:21: TqdmWarning: IProgress not found. Please update jupyter and ipywidgets. See https://ipywidgets.readthedocs.io/en/stable/user_install.html\n",
      "  from .autonotebook import tqdm as notebook_tqdm\n"
     ]
    }
   ],
   "source": [
    "# --- Imports ---\n",
    "from sentence_transformers import SentenceTransformer\n",
    "from qdrant_client import QdrantClient\n",
    "from qdrant_client.models import Distance, VectorParams, PointStruct, Filter, FieldCondition, MatchValue\n",
    "from tqdm import tqdm\n",
    "import numpy as np\n",
    "\n"
   ]
  },
  {
   "cell_type": "code",
   "execution_count": 6,
   "id": "a60e7b55-8696-49e9-835a-031334f8c5b9",
   "metadata": {},
   "outputs": [],
   "source": [
    "\n",
    "# --- Sanity checks (expects you already have these) ---\n",
    "# - documents: list of dicts with keys: id, question, text, course\n",
    "# - ground_truth: list of dicts with keys: question, course, document (the id of the correct doc)\n",
    "assert isinstance(documents, list) and len(documents) > 0, \"Expected non-empty `documents` list.\"\n",
    "assert isinstance(ground_truth, list) and len(ground_truth) > 0, \"Expected non-empty `ground_truth` list.\"\n"
   ]
  },
  {
   "cell_type": "code",
   "execution_count": 7,
   "id": "6bb76290-76cc-4c91-8c52-cfe19ab5ffdb",
   "metadata": {},
   "outputs": [],
   "source": [
    "\n",
    "# --- Helper: normalize course values (avoids case/whitespace mismatches) ---\n",
    "def norm_course(x):\n",
    "    return (x or \"\").strip().lower()\n",
    "\n"
   ]
  },
  {
   "cell_type": "code",
   "execution_count": 8,
   "id": "6c2fd96d-bfbf-4594-92bf-77ba885fb70e",
   "metadata": {},
   "outputs": [],
   "source": [
    "# Ensure every doc has a normalized course for filtering\n",
    "for d in documents:\n",
    "    d[\"course_norm\"] = norm_course(d.get(\"course\", \"\"))\n",
    "\n"
   ]
  },
  {
   "cell_type": "code",
   "execution_count": 9,
   "id": "6e2d19bc-9c51-4267-ad83-2e64535150dc",
   "metadata": {},
   "outputs": [],
   "source": [
    "# --- Build texts: question + answer ---\n",
    "texts_qA = [f\"{d['question']} {d['text']}\" for d in documents]\n"
   ]
  },
  {
   "cell_type": "code",
   "execution_count": 2,
   "id": "525cc06d-6164-4578-ab0d-34a8fa9bfcdd",
   "metadata": {},
   "outputs": [
    {
     "ename": "NameError",
     "evalue": "name 'SentenceTransformer' is not defined",
     "output_type": "error",
     "traceback": [
      "\u001b[31m---------------------------------------------------------------------------\u001b[39m",
      "\u001b[31mNameError\u001b[39m                                 Traceback (most recent call last)",
      "\u001b[36mCell\u001b[39m\u001b[36m \u001b[39m\u001b[32mIn[2]\u001b[39m\u001b[32m, line 3\u001b[39m\n\u001b[32m      1\u001b[39m \u001b[38;5;66;03m# --- Load embedding model ---\u001b[39;00m\n\u001b[32m      2\u001b[39m model_handle = \u001b[33m\"\u001b[39m\u001b[33mjinaai/jina-embeddings-v2-small-en\u001b[39m\u001b[33m\"\u001b[39m\n\u001b[32m----> \u001b[39m\u001b[32m3\u001b[39m model = \u001b[43mSentenceTransformer\u001b[49m(model_handle, trust_remote_code=\u001b[38;5;28;01mTrue\u001b[39;00m)\n",
      "\u001b[31mNameError\u001b[39m: name 'SentenceTransformer' is not defined"
     ]
    }
   ],
   "source": [
    "\n",
    "# --- Load embedding model ---\n",
    "model_handle = \"jinaai/jina-embeddings-v2-small-en\"\n",
    "model = SentenceTransformer(model_handle, trust_remote_code=True)\n"
   ]
  },
  {
   "cell_type": "code",
   "execution_count": 1,
   "id": "f9d4263d-547f-4886-9223-f44d6e01e54b",
   "metadata": {},
   "outputs": [
    {
     "ename": "NameError",
     "evalue": "name 'model' is not defined",
     "output_type": "error",
     "traceback": [
      "\u001b[31m---------------------------------------------------------------------------\u001b[39m",
      "\u001b[31mNameError\u001b[39m                                 Traceback (most recent call last)",
      "\u001b[36mCell\u001b[39m\u001b[36m \u001b[39m\u001b[32mIn[1]\u001b[39m\u001b[32m, line 2\u001b[39m\n\u001b[32m      1\u001b[39m \u001b[38;5;66;03m# --- Encode corpus (normalize for cosine similarity) ---\u001b[39;00m\n\u001b[32m----> \u001b[39m\u001b[32m2\u001b[39m embs = \u001b[43mmodel\u001b[49m.encode(texts_qA, normalize_embeddings=\u001b[38;5;28;01mTrue\u001b[39;00m)\n\u001b[32m      3\u001b[39m embs = np.asarray(embs)\n\u001b[32m      4\u001b[39m vector_size = embs.shape[\u001b[32m1\u001b[39m]  \u001b[38;5;66;03m# should be 512 for this model\u001b[39;00m\n",
      "\u001b[31mNameError\u001b[39m: name 'model' is not defined"
     ]
    }
   ],
   "source": [
    "\n",
    "# --- Encode corpus (normalize for cosine similarity) ---\n",
    "embs = model.encode(texts_qA, normalize_embeddings=True)\n",
    "embs = np.asarray(embs)\n",
    "vector_size = embs.shape[1]  # should be 512 for this model"
   ]
  },
  {
   "cell_type": "code",
   "execution_count": 5,
   "id": "50bab5f1-7967-46d0-9032-9d23604b8f9f",
   "metadata": {},
   "outputs": [
    {
     "name": "stderr",
     "output_type": "stream",
     "text": [
      "/tmp/ipykernel_68392/474015915.py:13: DeprecationWarning: `recreate_collection` method is deprecated and will be removed in the future. Use `collection_exists` to check collection existence and `create_collection` instead.\n",
      "  client.recreate_collection(\n"
     ]
    },
    {
     "data": {
      "text/plain": [
       "True"
      ]
     },
     "execution_count": 5,
     "metadata": {},
     "output_type": "execute_result"
    }
   ],
   "source": [
    "# Model (Q+A embeddings)\n",
    "model = SentenceTransformer(\"jinaai/jina-embeddings-v2-small-en\", trust_remote_code=True)\n",
    "\n",
    "# Qdrant client — pick ONE of these:\n",
    "# If you have a Qdrant server running:\n",
    "# client = QdrantClient(host=\"localhost\", port=6333)\n",
    "\n",
    "# If you DON'T have a server, use embedded/in-memory:\n",
    "client = QdrantClient(\":memory:\")  # or client = QdrantClient(path=\":memory:\")\n",
    "\n",
    "# Create/recreate collection (512-dim for this model, cosine distance)\n",
    "COLL = \"qa_qdrant_jina_small\"\n",
    "client.recreate_collection(\n",
    "    collection_name=COLL,\n",
    "    vectors_config=VectorParams(size=512, distance=Distance.COSINE),\n",
    ")"
   ]
  },
  {
   "cell_type": "code",
   "execution_count": 6,
   "id": "df1f4f15-5ea7-49e1-9e34-6e969a59f7f6",
   "metadata": {},
   "outputs": [
    {
     "ename": "NameError",
     "evalue": "name 'embs' is not defined",
     "output_type": "error",
     "traceback": [
      "\u001b[31m---------------------------------------------------------------------------\u001b[39m",
      "\u001b[31mNameError\u001b[39m                                 Traceback (most recent call last)",
      "\u001b[36mCell\u001b[39m\u001b[36m \u001b[39m\u001b[32mIn[6]\u001b[39m\u001b[32m, line 4\u001b[39m\n\u001b[32m      1\u001b[39m points = [\n\u001b[32m      2\u001b[39m     PointStruct(\n\u001b[32m      3\u001b[39m         \u001b[38;5;28mid\u001b[39m=\u001b[38;5;28mstr\u001b[39m(doc[\u001b[33m\"\u001b[39m\u001b[33mid\u001b[39m\u001b[33m\"\u001b[39m]),\n\u001b[32m----> \u001b[39m\u001b[32m4\u001b[39m         vector=\u001b[43membs\u001b[49m[i].tolist(),\n\u001b[32m      5\u001b[39m         payload={\u001b[33m\"\u001b[39m\u001b[33mid\u001b[39m\u001b[33m\"\u001b[39m: \u001b[38;5;28mstr\u001b[39m(doc[\u001b[33m\"\u001b[39m\u001b[33mid\u001b[39m\u001b[33m\"\u001b[39m]), \u001b[33m\"\u001b[39m\u001b[33mcourse\u001b[39m\u001b[33m\"\u001b[39m: doc[\u001b[33m\"\u001b[39m\u001b[33mcourse\u001b[39m\u001b[33m\"\u001b[39m], \u001b[33m\"\u001b[39m\u001b[33mquestion\u001b[39m\u001b[33m\"\u001b[39m: doc[\u001b[33m\"\u001b[39m\u001b[33mquestion\u001b[39m\u001b[33m\"\u001b[39m], \u001b[33m\"\u001b[39m\u001b[33mtext\u001b[39m\u001b[33m\"\u001b[39m: doc[\u001b[33m\"\u001b[39m\u001b[33mtext\u001b[39m\u001b[33m\"\u001b[39m]},\n\u001b[32m      6\u001b[39m     )\n\u001b[32m      7\u001b[39m     \u001b[38;5;28;01mfor\u001b[39;00m i, doc \u001b[38;5;129;01min\u001b[39;00m \u001b[38;5;28menumerate\u001b[39m(documents)\n\u001b[32m      8\u001b[39m ]\n\u001b[32m      9\u001b[39m client.upsert(collection_name=COLL, points=points)\n",
      "\u001b[31mNameError\u001b[39m: name 'embs' is not defined"
     ]
    }
   ],
   "source": [
    "points = [\n",
    "    PointStruct(\n",
    "        id=str(doc[\"id\"]),\n",
    "        vector=embs[i].tolist(),\n",
    "        payload={\"id\": str(doc[\"id\"]), \"course\": doc[\"course\"], \"question\": doc[\"question\"], \"text\": doc[\"text\"]},\n",
    "    )\n",
    "    for i, doc in enumerate(documents)\n",
    "]\n",
    "client.upsert(collection_name=COLL, points=points)"
   ]
  },
  {
   "cell_type": "code",
   "execution_count": null,
   "id": "dab153f6-3124-42a0-a6fa-90e8ee0b0cf2",
   "metadata": {},
   "outputs": [],
   "source": []
  }
 ],
 "metadata": {
  "kernelspec": {
   "display_name": "Python 3 (ipykernel)",
   "language": "python",
   "name": "python3"
  },
  "language_info": {
   "codemirror_mode": {
    "name": "ipython",
    "version": 3
   },
   "file_extension": ".py",
   "mimetype": "text/x-python",
   "name": "python",
   "nbconvert_exporter": "python",
   "pygments_lexer": "ipython3",
   "version": "3.12.1"
  }
 },
 "nbformat": 4,
 "nbformat_minor": 5
}
