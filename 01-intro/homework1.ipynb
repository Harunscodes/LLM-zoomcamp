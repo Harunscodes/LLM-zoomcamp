{
 "cells": [
  {
   "cell_type": "code",
   "execution_count": 1,
   "id": "ad4dd74e",
   "metadata": {},
   "outputs": [],
   "source": [
    "import openai\n"
   ]
  },
  {
   "cell_type": "code",
   "execution_count": 2,
   "id": "a38bb0c2",
   "metadata": {},
   "outputs": [],
   "source": [
    "from openai import OpenAI"
   ]
  },
  {
   "cell_type": "code",
   "execution_count": 3,
   "id": "ee5d3e5e",
   "metadata": {},
   "outputs": [],
   "source": [
    "client = OpenAI()"
   ]
  },
  {
   "cell_type": "code",
   "execution_count": 4,
   "id": "2bf30d9b",
   "metadata": {},
   "outputs": [],
   "source": [
    "import os\n"
   ]
  },
  {
   "cell_type": "code",
   "execution_count": 5,
   "id": "e82128ba",
   "metadata": {},
   "outputs": [],
   "source": [
    "response = client.chat.completions.create(model='gpt-4o',\n",
    "                              messages=[{\"role\":\"user\",\"content\":\"Is it too late to start with the course\"}])"
   ]
  },
  {
   "cell_type": "code",
   "execution_count": 6,
   "id": "fca1d8da",
   "metadata": {},
   "outputs": [
    {
     "data": {
      "text/plain": [
       "\"It's never too late to start a course, but whether it's a good idea to do so depends on a few factors. Consider the following:\\n\\n1. **Course Timeline**: Understand how much time is left in the course and how much material you need to catch up on. If the course is nearly over and you haven't begun, it might be challenging to catch up.\\n\\n2. **Personal Schedule**: Evaluate your own schedule to ensure you have enough time to dedicate to the course. If you can allocate sufficient time to study and complete assignments, you can catch up more easily.\\n\\n3. **Course Content**: Review the syllabus to see if the early material is crucial for understanding later topics. If it is, you might need to put in extra effort to learn what you've missed.\\n\\n4. **Support Available**: Determine what resources are available to you, such as instructor office hours, study groups, or online forums. These can be immensely helpful in bringing you up to speed.\\n\\n5. **Motivation and Goals**: Consider your motivation for taking the course and what you hope to achieve. If you're passionate about the subject and have clear goals, you're more likely to succeed.\\n\\nIf you assess these factors and feel confident you can manage the workload, it could certainly be worthwhile to start the course.\""
      ]
     },
     "execution_count": 6,
     "metadata": {},
     "output_type": "execute_result"
    }
   ],
   "source": [
    "response.choices[0].message.content"
   ]
  },
  {
   "cell_type": "code",
   "execution_count": null,
   "id": "d77af3ec",
   "metadata": {},
   "outputs": [],
   "source": []
  }
 ],
 "metadata": {
  "kernelspec": {
   "display_name": "Python 3 (ipykernel)",
   "language": "python",
   "name": "python3"
  },
  "language_info": {
   "codemirror_mode": {
    "name": "ipython",
    "version": 3
   },
   "file_extension": ".py",
   "mimetype": "text/x-python",
   "name": "python",
   "nbconvert_exporter": "python",
   "pygments_lexer": "ipython3",
   "version": "3.9.12"
  }
 },
 "nbformat": 4,
 "nbformat_minor": 5
}
