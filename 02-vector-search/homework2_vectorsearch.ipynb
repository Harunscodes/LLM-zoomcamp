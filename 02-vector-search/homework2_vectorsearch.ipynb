{
 "cells": [
  {
   "cell_type": "code",
   "execution_count": 1,
   "id": "b45fa64c-5b82-4ffd-84f0-c1dc9aa61c03",
   "metadata": {},
   "outputs": [],
   "source": [
    "import numpy as np"
   ]
  },
  {
   "cell_type": "code",
   "execution_count": 2,
   "id": "4a806351-d130-4da7-b309-f2b6c94fcb03",
   "metadata": {},
   "outputs": [
    {
     "name": "stderr",
     "output_type": "stream",
     "text": [
      "/usr/local/python/3.12.1/lib/python3.12/site-packages/tqdm/auto.py:21: TqdmWarning: IProgress not found. Please update jupyter and ipywidgets. See https://ipywidgets.readthedocs.io/en/stable/user_install.html\n",
      "  from .autonotebook import tqdm as notebook_tqdm\n"
     ]
    }
   ],
   "source": [
    "from fastembed import TextEmbedding"
   ]
  },
  {
   "cell_type": "code",
   "execution_count": 3,
   "id": "6e15ebf4-3294-479d-ba8b-971016191ab7",
   "metadata": {},
   "outputs": [],
   "source": [
    "embedder = TextEmbedding(model_name='jinaai/jina-embeddings-v2-small-en')"
   ]
  },
  {
   "cell_type": "code",
   "execution_count": 4,
   "id": "53558422-2b3b-4769-b26a-6528a08a797a",
   "metadata": {},
   "outputs": [],
   "source": [
    "query = 'I just discovered the course. Can I join now?'"
   ]
  },
  {
   "cell_type": "code",
   "execution_count": 7,
   "id": "254fbcb4-f3ea-49f8-8519-38431a588358",
   "metadata": {},
   "outputs": [],
   "source": [
    "q, = list(embedder.embed(query))"
   ]
  },
  {
   "cell_type": "code",
   "execution_count": 8,
   "id": "8c5fad92-e2f0-42c9-bc7c-c17520846c5a",
   "metadata": {},
   "outputs": [
    {
     "data": {
      "text/plain": [
       "np.float64(-0.11726373885183883)"
      ]
     },
     "execution_count": 8,
     "metadata": {},
     "output_type": "execute_result"
    }
   ],
   "source": [
    "q.min()"
   ]
  },
  {
   "cell_type": "code",
   "execution_count": 9,
   "id": "9df96273-f467-45af-b1f9-ff088fc1d68c",
   "metadata": {},
   "outputs": [
    {
     "data": {
      "text/plain": [
       "np.float64(1.0)"
      ]
     },
     "execution_count": 9,
     "metadata": {},
     "output_type": "execute_result"
    }
   ],
   "source": [
    "import numpy as np\n",
    "np.linalg.norm(q)"
   ]
  },
  {
   "cell_type": "code",
   "execution_count": 10,
   "id": "5a093610-5a9f-4793-89fc-365127357968",
   "metadata": {},
   "outputs": [
    {
     "data": {
      "text/plain": [
       "np.float64(1.0000000000000002)"
      ]
     },
     "execution_count": 10,
     "metadata": {},
     "output_type": "execute_result"
    }
   ],
   "source": [
    "q.dot(q)"
   ]
  },
  {
   "cell_type": "code",
   "execution_count": 11,
   "id": "81a10609-06d8-4b13-b0fd-917bbc31e4e3",
   "metadata": {},
   "outputs": [],
   "source": [
    "doc = 'Can I still join the course after the start date?'"
   ]
  },
  {
   "cell_type": "code",
   "execution_count": 12,
   "id": "08fdad06-7f21-4989-b510-f8b95d690d52",
   "metadata": {},
   "outputs": [],
   "source": [
    "doc, = list(embedder.embed(doc))"
   ]
  },
  {
   "cell_type": "code",
   "execution_count": 13,
   "id": "4dd5caa6-b89a-4e47-b7b7-2ac5c34c5dcb",
   "metadata": {},
   "outputs": [
    {
     "data": {
      "text/plain": [
       "np.float64(0.9008528895674548)"
      ]
     },
     "execution_count": 13,
     "metadata": {},
     "output_type": "execute_result"
    }
   ],
   "source": [
    "q.dot(doc)"
   ]
  },
  {
   "cell_type": "code",
   "execution_count": 19,
   "id": "174dcd6e-dc3b-4214-96aa-39bcfa272a3b",
   "metadata": {},
   "outputs": [
    {
     "data": {
      "text/plain": [
       "np.float64(0.9008528895674548)"
      ]
     },
     "execution_count": 19,
     "metadata": {},
     "output_type": "execute_result"
    }
   ],
   "source": [
    "doc.dot(q)"
   ]
  },
  {
   "cell_type": "code",
   "execution_count": 14,
   "id": "5590875c-edea-4d6c-b3df-17060ae67124",
   "metadata": {},
   "outputs": [],
   "source": [
    "documents = [{'text': \"Yes, even if you don't register, you're still eligible to submit the homeworks.\\nBe aware, however, that there will be deadlines for turning in the final projects. So don't leave everything for the last minute.\",\n",
    "  'section': 'General course-related questions',\n",
    "  'question': 'Course - Can I still join the course after the start date?',\n",
    "  'course': 'data-engineering-zoomcamp'},\n",
    " {'text': 'Yes, we will keep all the materials after the course finishes, so you can follow the course at your own pace after it finishes.\\nYou can also continue looking at the homeworks and continue preparing for the next cohort. I guess you can also start working on your final capstone project.',\n",
    "  'section': 'General course-related questions',\n",
    "  'question': 'Course - Can I follow the course after it finishes?',\n",
    "  'course': 'data-engineering-zoomcamp'},\n",
    " {'text': \"The purpose of this document is to capture frequently asked technical questions\\nThe exact day and hour of the course will be 15th Jan 2024 at 17h00. The course will start with the first  “Office Hours'' live.1\\nSubscribe to course public Google Calendar (it works from Desktop only).\\nRegister before the course starts using this link.\\nJoin the course Telegram channel with announcements.\\nDon’t forget to register in DataTalks.Club's Slack and join the channel.\",\n",
    "  'section': 'General course-related questions',\n",
    "  'question': 'Course - When will the course start?',\n",
    "  'course': 'data-engineering-zoomcamp'},\n",
    " {'text': 'You can start by installing and setting up all the dependencies and requirements:\\nGoogle cloud account\\nGoogle Cloud SDK\\nPython 3 (installed with Anaconda)\\nTerraform\\nGit\\nLook over the prerequisites and syllabus to see if you are comfortable with these subjects.',\n",
    "  'section': 'General course-related questions',\n",
    "  'question': 'Course - What can I do before the course starts?',\n",
    "  'course': 'data-engineering-zoomcamp'},\n",
    " {'text': 'Star the repo! Share it with friends if you find it useful ❣️\\nCreate a PR if you see you can improve the text or the structure of the repository.',\n",
    "  'section': 'General course-related questions',\n",
    "  'question': 'How can we contribute to the course?',\n",
    "  'course': 'data-engineering-zoomcamp'}]"
   ]
  },
  {
   "cell_type": "code",
   "execution_count": 15,
   "id": "d232efba-2036-464d-a2ea-66544cd341a2",
   "metadata": {},
   "outputs": [],
   "source": [
    "import pandas as pd"
   ]
  },
  {
   "cell_type": "code",
   "execution_count": 16,
   "id": "b869588e-2957-4cb6-a74a-c152d5c172bc",
   "metadata": {},
   "outputs": [],
   "source": [
    "df = pd.DataFrame(documents)"
   ]
  },
  {
   "cell_type": "code",
   "execution_count": 17,
   "id": "09d08556-a93c-4039-97ae-aea8d6a8854b",
   "metadata": {},
   "outputs": [
    {
     "data": {
      "text/plain": [
       "0    Yes, even if you don't register, you're still ...\n",
       "1    Yes, we will keep all the materials after the ...\n",
       "2    The purpose of this document is to capture fre...\n",
       "3    You can start by installing and setting up all...\n",
       "4    Star the repo! Share it with friends if you fi...\n",
       "Name: text, dtype: object"
      ]
     },
     "execution_count": 17,
     "metadata": {},
     "output_type": "execute_result"
    }
   ],
   "source": [
    "df.text"
   ]
  },
  {
   "cell_type": "code",
   "execution_count": 18,
   "id": "c4041fb1-400f-4622-859e-a6ec2baabf8b",
   "metadata": {},
   "outputs": [
    {
     "data": {
      "text/html": [
       "<div>\n",
       "<style scoped>\n",
       "    .dataframe tbody tr th:only-of-type {\n",
       "        vertical-align: middle;\n",
       "    }\n",
       "\n",
       "    .dataframe tbody tr th {\n",
       "        vertical-align: top;\n",
       "    }\n",
       "\n",
       "    .dataframe thead th {\n",
       "        text-align: right;\n",
       "    }\n",
       "</style>\n",
       "<table border=\"1\" class=\"dataframe\">\n",
       "  <thead>\n",
       "    <tr style=\"text-align: right;\">\n",
       "      <th></th>\n",
       "      <th>text</th>\n",
       "      <th>section</th>\n",
       "      <th>question</th>\n",
       "      <th>course</th>\n",
       "    </tr>\n",
       "  </thead>\n",
       "  <tbody>\n",
       "    <tr>\n",
       "      <th>0</th>\n",
       "      <td>Yes, even if you don't register, you're still ...</td>\n",
       "      <td>General course-related questions</td>\n",
       "      <td>Course - Can I still join the course after the...</td>\n",
       "      <td>data-engineering-zoomcamp</td>\n",
       "    </tr>\n",
       "    <tr>\n",
       "      <th>1</th>\n",
       "      <td>Yes, we will keep all the materials after the ...</td>\n",
       "      <td>General course-related questions</td>\n",
       "      <td>Course - Can I follow the course after it fini...</td>\n",
       "      <td>data-engineering-zoomcamp</td>\n",
       "    </tr>\n",
       "    <tr>\n",
       "      <th>2</th>\n",
       "      <td>The purpose of this document is to capture fre...</td>\n",
       "      <td>General course-related questions</td>\n",
       "      <td>Course - When will the course start?</td>\n",
       "      <td>data-engineering-zoomcamp</td>\n",
       "    </tr>\n",
       "    <tr>\n",
       "      <th>3</th>\n",
       "      <td>You can start by installing and setting up all...</td>\n",
       "      <td>General course-related questions</td>\n",
       "      <td>Course - What can I do before the course starts?</td>\n",
       "      <td>data-engineering-zoomcamp</td>\n",
       "    </tr>\n",
       "    <tr>\n",
       "      <th>4</th>\n",
       "      <td>Star the repo! Share it with friends if you fi...</td>\n",
       "      <td>General course-related questions</td>\n",
       "      <td>How can we contribute to the course?</td>\n",
       "      <td>data-engineering-zoomcamp</td>\n",
       "    </tr>\n",
       "  </tbody>\n",
       "</table>\n",
       "</div>"
      ],
      "text/plain": [
       "                                                text  \\\n",
       "0  Yes, even if you don't register, you're still ...   \n",
       "1  Yes, we will keep all the materials after the ...   \n",
       "2  The purpose of this document is to capture fre...   \n",
       "3  You can start by installing and setting up all...   \n",
       "4  Star the repo! Share it with friends if you fi...   \n",
       "\n",
       "                            section  \\\n",
       "0  General course-related questions   \n",
       "1  General course-related questions   \n",
       "2  General course-related questions   \n",
       "3  General course-related questions   \n",
       "4  General course-related questions   \n",
       "\n",
       "                                            question  \\\n",
       "0  Course - Can I still join the course after the...   \n",
       "1  Course - Can I follow the course after it fini...   \n",
       "2               Course - When will the course start?   \n",
       "3   Course - What can I do before the course starts?   \n",
       "4               How can we contribute to the course?   \n",
       "\n",
       "                      course  \n",
       "0  data-engineering-zoomcamp  \n",
       "1  data-engineering-zoomcamp  \n",
       "2  data-engineering-zoomcamp  \n",
       "3  data-engineering-zoomcamp  \n",
       "4  data-engineering-zoomcamp  "
      ]
     },
     "execution_count": 18,
     "metadata": {},
     "output_type": "execute_result"
    }
   ],
   "source": [
    "df"
   ]
  },
  {
   "cell_type": "code",
   "execution_count": 20,
   "id": "063617d3-59b1-45e8-ac6e-d776f396a18d",
   "metadata": {},
   "outputs": [],
   "source": [
    "V_text = list(embedder.embed(df.text))\n",
    "V_text = np.array(V_text)"
   ]
  },
  {
   "cell_type": "code",
   "execution_count": 22,
   "id": "39a7e013-0aa5-4371-b900-89fb7df33c2d",
   "metadata": {},
   "outputs": [
    {
     "data": {
      "text/plain": [
       "np.int64(1)"
      ]
     },
     "execution_count": 22,
     "metadata": {},
     "output_type": "execute_result"
    }
   ],
   "source": [
    "V_text.dot(q).argmax()"
   ]
  },
  {
   "cell_type": "code",
   "execution_count": 24,
   "id": "3ecf5d3a-3e13-45a2-b512-be155c1e7646",
   "metadata": {},
   "outputs": [],
   "source": [
    "full_text = df['question'] + ' ' + df['text']"
   ]
  },
  {
   "cell_type": "code",
   "execution_count": 25,
   "id": "b05dbec9-bb34-4408-8c24-96a8e8115553",
   "metadata": {},
   "outputs": [
    {
     "data": {
      "text/plain": [
       "'Course - Can I still join the course after the start date?'"
      ]
     },
     "execution_count": 25,
     "metadata": {},
     "output_type": "execute_result"
    }
   ],
   "source": [
    "df['question'][0]"
   ]
  },
  {
   "cell_type": "code",
   "execution_count": 26,
   "id": "571398e7-bdea-4bf8-b925-63796a68e6e2",
   "metadata": {},
   "outputs": [],
   "source": [
    "Full_=list(embedder.embed(full_text))"
   ]
  },
  {
   "cell_type": "code",
   "execution_count": 27,
   "id": "37efcc58-3eed-459b-b2a0-24584aae73eb",
   "metadata": {},
   "outputs": [],
   "source": [
    "Full_ = np.array(Full_)"
   ]
  },
  {
   "cell_type": "code",
   "execution_count": 33,
   "id": "a2c546cc-4e7c-4447-a15c-003b1f467c50",
   "metadata": {},
   "outputs": [
    {
     "data": {
      "text/plain": [
       "np.int64(0)"
      ]
     },
     "execution_count": 33,
     "metadata": {},
     "output_type": "execute_result"
    }
   ],
   "source": [
    "Full_.dot(q).argmax()"
   ]
  },
  {
   "cell_type": "code",
   "execution_count": 29,
   "id": "4b1c6d03-c645-4825-83af-238915718d12",
   "metadata": {},
   "outputs": [
    {
     "data": {
      "text/plain": [
       "np.int64(0)"
      ]
     },
     "execution_count": 29,
     "metadata": {},
     "output_type": "execute_result"
    }
   ],
   "source": [
    "V_text = list(embedder.embed(df.question + ' ' + df.text))\n",
    "V_text = np.array(V_text)\n",
    "\n",
    "similarity = V_text.dot(q)\n",
    "similarity.argmax()"
   ]
  },
  {
   "cell_type": "code",
   "execution_count": 30,
   "id": "31ee76b2-49be-42ce-af2c-f02b751c385b",
   "metadata": {},
   "outputs": [],
   "source": [
    "full2= df.question + ' ' + df.text"
   ]
  },
  {
   "cell_type": "code",
   "execution_count": 31,
   "id": "848a763f-c993-410b-b17c-162071d99826",
   "metadata": {},
   "outputs": [
    {
     "data": {
      "text/plain": [
       "\"Course - Can I still join the course after the start date? Yes, even if you don't register, you're still eligible to submit the homeworks.\\nBe aware, however, that there will be deadlines for turning in the final projects. So don't leave everything for the last minute.\""
      ]
     },
     "execution_count": 31,
     "metadata": {},
     "output_type": "execute_result"
    }
   ],
   "source": [
    "full2[0]"
   ]
  },
  {
   "cell_type": "code",
   "execution_count": 32,
   "id": "dcd3236d-8a7c-4439-8ec0-9bacf160a3b2",
   "metadata": {},
   "outputs": [
    {
     "data": {
      "text/plain": [
       "\"Course - Can I still join the course after the start date? Yes, even if you don't register, you're still eligible to submit the homeworks.\\nBe aware, however, that there will be deadlines for turning in the final projects. So don't leave everything for the last minute.\""
      ]
     },
     "execution_count": 32,
     "metadata": {},
     "output_type": "execute_result"
    }
   ],
   "source": [
    "full_text[0]"
   ]
  },
  {
   "cell_type": "code",
   "execution_count": 34,
   "id": "8b2c5144-c020-4b38-b916-46eeba6b8247",
   "metadata": {},
   "outputs": [],
   "source": [
    "import requests \n",
    "\n",
    "docs_url = 'https://github.com/alexeygrigorev/llm-rag-workshop/raw/main/notebooks/documents.json'\n",
    "docs_response = requests.get(docs_url)\n",
    "documents_raw = docs_response.json()"
   ]
  },
  {
   "cell_type": "code",
   "execution_count": 35,
   "id": "927c4551-90f5-484e-9b8b-f67eeb7beb14",
   "metadata": {},
   "outputs": [],
   "source": [
    "\t\n",
    "documents = []\n",
    "\n",
    "for course in documents_raw:\n",
    "    course_name = course['course']\n",
    "    if course_name != 'machine-learning-zoomcamp':\n",
    "        continue\n",
    "\n",
    "    for doc in course['documents']:\n",
    "        doc['course'] = course_name\n",
    "        documents.append(doc)"
   ]
  },
  {
   "cell_type": "code",
   "execution_count": 36,
   "id": "f245a181-d38d-481b-bfa1-8daa6cfb0e43",
   "metadata": {},
   "outputs": [],
   "source": [
    "models = TextEmbedding.list_supported_models()\n",
    "df_models = pd.DataFrame(models)"
   ]
  },
  {
   "cell_type": "code",
   "execution_count": 37,
   "id": "a74e8f25-8b2d-4ee0-93e9-3fe6faed31a3",
   "metadata": {},
   "outputs": [
    {
     "data": {
      "text/html": [
       "<div>\n",
       "<style scoped>\n",
       "    .dataframe tbody tr th:only-of-type {\n",
       "        vertical-align: middle;\n",
       "    }\n",
       "\n",
       "    .dataframe tbody tr th {\n",
       "        vertical-align: top;\n",
       "    }\n",
       "\n",
       "    .dataframe thead th {\n",
       "        text-align: right;\n",
       "    }\n",
       "</style>\n",
       "<table border=\"1\" class=\"dataframe\">\n",
       "  <thead>\n",
       "    <tr style=\"text-align: right;\">\n",
       "      <th></th>\n",
       "      <th>model</th>\n",
       "      <th>sources</th>\n",
       "      <th>model_file</th>\n",
       "      <th>description</th>\n",
       "      <th>license</th>\n",
       "      <th>size_in_GB</th>\n",
       "      <th>additional_files</th>\n",
       "      <th>dim</th>\n",
       "      <th>tasks</th>\n",
       "    </tr>\n",
       "  </thead>\n",
       "  <tbody>\n",
       "    <tr>\n",
       "      <th>3</th>\n",
       "      <td>BAAI/bge-small-en</td>\n",
       "      <td>{'hf': 'Qdrant/bge-small-en', 'url': 'https://...</td>\n",
       "      <td>model_optimized.onnx</td>\n",
       "      <td>Text embeddings, Unimodal (text), English, 512...</td>\n",
       "      <td>mit</td>\n",
       "      <td>0.130</td>\n",
       "      <td>[]</td>\n",
       "      <td>384</td>\n",
       "      <td>{}</td>\n",
       "    </tr>\n",
       "    <tr>\n",
       "      <th>4</th>\n",
       "      <td>BAAI/bge-small-en-v1.5</td>\n",
       "      <td>{'hf': 'qdrant/bge-small-en-v1.5-onnx-q', 'url...</td>\n",
       "      <td>model_optimized.onnx</td>\n",
       "      <td>Text embeddings, Unimodal (text), English, 512...</td>\n",
       "      <td>mit</td>\n",
       "      <td>0.067</td>\n",
       "      <td>[]</td>\n",
       "      <td>384</td>\n",
       "      <td>{}</td>\n",
       "    </tr>\n",
       "    <tr>\n",
       "      <th>7</th>\n",
       "      <td>snowflake/snowflake-arctic-embed-xs</td>\n",
       "      <td>{'hf': 'snowflake/snowflake-arctic-embed-xs', ...</td>\n",
       "      <td>onnx/model.onnx</td>\n",
       "      <td>Text embeddings, Unimodal (text), English, 512...</td>\n",
       "      <td>apache-2.0</td>\n",
       "      <td>0.090</td>\n",
       "      <td>[]</td>\n",
       "      <td>384</td>\n",
       "      <td>{}</td>\n",
       "    </tr>\n",
       "    <tr>\n",
       "      <th>8</th>\n",
       "      <td>snowflake/snowflake-arctic-embed-s</td>\n",
       "      <td>{'hf': 'snowflake/snowflake-arctic-embed-s', '...</td>\n",
       "      <td>onnx/model.onnx</td>\n",
       "      <td>Text embeddings, Unimodal (text), English, 512...</td>\n",
       "      <td>apache-2.0</td>\n",
       "      <td>0.130</td>\n",
       "      <td>[]</td>\n",
       "      <td>384</td>\n",
       "      <td>{}</td>\n",
       "    </tr>\n",
       "    <tr>\n",
       "      <th>14</th>\n",
       "      <td>sentence-transformers/all-MiniLM-L6-v2</td>\n",
       "      <td>{'hf': 'qdrant/all-MiniLM-L6-v2-onnx', 'url': ...</td>\n",
       "      <td>model.onnx</td>\n",
       "      <td>Text embeddings, Unimodal (text), English, 256...</td>\n",
       "      <td>apache-2.0</td>\n",
       "      <td>0.090</td>\n",
       "      <td>[]</td>\n",
       "      <td>384</td>\n",
       "      <td>{}</td>\n",
       "    </tr>\n",
       "    <tr>\n",
       "      <th>26</th>\n",
       "      <td>sentence-transformers/paraphrase-multilingual-...</td>\n",
       "      <td>{'hf': 'qdrant/paraphrase-multilingual-MiniLM-...</td>\n",
       "      <td>model_optimized.onnx</td>\n",
       "      <td>Text embeddings, Unimodal (text), Multilingual...</td>\n",
       "      <td>apache-2.0</td>\n",
       "      <td>0.220</td>\n",
       "      <td>[]</td>\n",
       "      <td>384</td>\n",
       "      <td>{}</td>\n",
       "    </tr>\n",
       "  </tbody>\n",
       "</table>\n",
       "</div>"
      ],
      "text/plain": [
       "                                                model  \\\n",
       "3                                   BAAI/bge-small-en   \n",
       "4                              BAAI/bge-small-en-v1.5   \n",
       "7                 snowflake/snowflake-arctic-embed-xs   \n",
       "8                  snowflake/snowflake-arctic-embed-s   \n",
       "14             sentence-transformers/all-MiniLM-L6-v2   \n",
       "26  sentence-transformers/paraphrase-multilingual-...   \n",
       "\n",
       "                                              sources            model_file  \\\n",
       "3   {'hf': 'Qdrant/bge-small-en', 'url': 'https://...  model_optimized.onnx   \n",
       "4   {'hf': 'qdrant/bge-small-en-v1.5-onnx-q', 'url...  model_optimized.onnx   \n",
       "7   {'hf': 'snowflake/snowflake-arctic-embed-xs', ...       onnx/model.onnx   \n",
       "8   {'hf': 'snowflake/snowflake-arctic-embed-s', '...       onnx/model.onnx   \n",
       "14  {'hf': 'qdrant/all-MiniLM-L6-v2-onnx', 'url': ...            model.onnx   \n",
       "26  {'hf': 'qdrant/paraphrase-multilingual-MiniLM-...  model_optimized.onnx   \n",
       "\n",
       "                                          description     license  size_in_GB  \\\n",
       "3   Text embeddings, Unimodal (text), English, 512...         mit       0.130   \n",
       "4   Text embeddings, Unimodal (text), English, 512...         mit       0.067   \n",
       "7   Text embeddings, Unimodal (text), English, 512...  apache-2.0       0.090   \n",
       "8   Text embeddings, Unimodal (text), English, 512...  apache-2.0       0.130   \n",
       "14  Text embeddings, Unimodal (text), English, 256...  apache-2.0       0.090   \n",
       "26  Text embeddings, Unimodal (text), Multilingual...  apache-2.0       0.220   \n",
       "\n",
       "   additional_files  dim tasks  \n",
       "3                []  384    {}  \n",
       "4                []  384    {}  \n",
       "7                []  384    {}  \n",
       "8                []  384    {}  \n",
       "14               []  384    {}  \n",
       "26               []  384    {}  "
      ]
     },
     "execution_count": 37,
     "metadata": {},
     "output_type": "execute_result"
    }
   ],
   "source": [
    "df_models[df_models.dim == df_models.dim.min()]"
   ]
  },
  {
   "cell_type": "code",
   "execution_count": 38,
   "id": "ab90e472-2edf-4d70-ad86-28a0c0374166",
   "metadata": {},
   "outputs": [],
   "source": [
    "from qdrant_client import QdrantClient, models\n",
    "qd_client = QdrantClient(\"http://localhost:6333\")"
   ]
  },
  {
   "cell_type": "code",
   "execution_count": 39,
   "id": "3168da53-c06d-483a-9d60-3363ad7379ab",
   "metadata": {},
   "outputs": [],
   "source": [
    "EMBEDDING_DIMENSIONALITY = 384\n",
    "model_handle = \"BAAI/bge-small-en\"\n",
    "collection_name = \"llmzoomcamp-homework\""
   ]
  },
  {
   "cell_type": "code",
   "execution_count": 40,
   "id": "a0bc4cdb-7952-44dd-987c-f9697c21b3e6",
   "metadata": {},
   "outputs": [
    {
     "data": {
      "text/plain": [
       "True"
      ]
     },
     "execution_count": 40,
     "metadata": {},
     "output_type": "execute_result"
    }
   ],
   "source": [
    "qd_client.delete_collection(collection_name=collection_name)\n",
    "\n",
    "qd_client.create_collection(\n",
    "    collection_name=collection_name,\n",
    "    vectors_config=models.VectorParams(\n",
    "        size=EMBEDDING_DIMENSIONALITY,\n",
    "        distance=models.Distance.COSINE\n",
    "    )\n",
    ")"
   ]
  },
  {
   "cell_type": "code",
   "execution_count": 41,
   "id": "3e400571-c8a9-440f-9236-9c6c5aa8e0e2",
   "metadata": {},
   "outputs": [
    {
     "name": "stderr",
     "output_type": "stream",
     "text": [
      "Fetching 5 files: 100%|█████████████████████████████████████████████████████████████████████████| 5/5 [00:00<00:00,  6.22it/s]\n"
     ]
    },
    {
     "data": {
      "text/plain": [
       "UpdateResult(operation_id=0, status=<UpdateStatus.COMPLETED: 'completed'>)"
      ]
     },
     "execution_count": 41,
     "metadata": {},
     "output_type": "execute_result"
    }
   ],
   "source": [
    "points = []\n",
    "\n",
    "for i, doc in enumerate(documents):\n",
    "    text = doc['question'] + ' ' + doc['text']\n",
    "    vector = models.Document(text=text, model=model_handle)\n",
    "    point = models.PointStruct(\n",
    "        id=i,\n",
    "        vector=vector,\n",
    "        payload=doc\n",
    "    )\n",
    "    points.append(point)\n",
    "\n",
    "qd_client.upsert(\n",
    "    collection_name=collection_name,\n",
    "    points=points\n",
    ")"
   ]
  },
  {
   "cell_type": "code",
   "execution_count": 42,
   "id": "3954243c-230d-47d5-827d-e6d956e6c625",
   "metadata": {},
   "outputs": [],
   "source": [
    "question = 'I just discovered the course. Can I join now?'\n",
    "\n",
    "query_points = qd_client.query_points(\n",
    "    collection_name=collection_name,\n",
    "    query=models.Document(\n",
    "        text=question,\n",
    "        model=model_handle \n",
    "    ),\n",
    "    limit=5,\n",
    "    with_payload=True\n",
    ")"
   ]
  },
  {
   "cell_type": "code",
   "execution_count": 43,
   "id": "17563258-fad2-4c31-9ea4-be36d602d5d7",
   "metadata": {},
   "outputs": [
    {
     "data": {
      "text/plain": [
       "ScoredPoint(id=14, version=0, score=0.87031734, payload={'text': 'Yes, you can. You won’t be able to submit some of the homeworks, but you can still take part in the course.\\nIn order to get a certificate, you need to submit 2 out of 3 course projects and review 3 peers’ Projects by the deadline. It means that if you join the course at the end of November and manage to work on two projects, you will still be eligible for a certificate.', 'section': 'General course-related questions', 'question': 'The course has already started. Can I still join it?', 'course': 'machine-learning-zoomcamp'}, vector=None, shard_key=None, order_value=None)"
      ]
     },
     "execution_count": 43,
     "metadata": {},
     "output_type": "execute_result"
    }
   ],
   "source": [
    "query_points.points[0]"
   ]
  },
  {
   "cell_type": "code",
   "execution_count": null,
   "id": "d2e23db3-8ed6-4b1b-b9c0-ec3bd7e17b02",
   "metadata": {},
   "outputs": [],
   "source": []
  }
 ],
 "metadata": {
  "kernelspec": {
   "display_name": "Python 3 (ipykernel)",
   "language": "python",
   "name": "python3"
  },
  "language_info": {
   "codemirror_mode": {
    "name": "ipython",
    "version": 3
   },
   "file_extension": ".py",
   "mimetype": "text/x-python",
   "name": "python",
   "nbconvert_exporter": "python",
   "pygments_lexer": "ipython3",
   "version": "3.12.1"
  }
 },
 "nbformat": 4,
 "nbformat_minor": 5
}
